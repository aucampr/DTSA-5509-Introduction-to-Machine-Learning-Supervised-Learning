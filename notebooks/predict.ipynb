{
 "cells": [
  {
   "cell_type": "code",
   "execution_count": null,
   "id": "1a9166c7",
   "metadata": {},
   "outputs": [
    {
     "name": "stderr",
     "output_type": "stream",
     "text": [
      "YOLOv5  v7.0-430-g459d8bf0 Python-3.13.3 torch-2.8.0+cu126 CUDA:0 (NVIDIA RTX A6000, 49140MiB)\n",
      "\n",
      "Fusing layers... \n",
      "Model summary: 267 layers, 46129818 parameters, 0 gradients, 107.7 GFLOPs\n",
      "Adding AutoShape... \n"
     ]
    },
    {
     "name": "stdout",
     "output_type": "stream",
     "text": [
      "   xmin        ymin        xmax        ymax  confidence  class       name\n",
      "0   0.0  173.876068  493.524506  511.756744    0.798432      2  Crocodile\n",
      "Saved image: D:/repos/intro_to_ml/runs/detect/single_2025_10_09/China_MotorBike_000329.jpg\\China_MotorBike_000778.jpg ok= True\n",
      "Wrote labels: D:/repos/intro_to_ml/runs/detect/single_2025_10_09/China_MotorBike_000329.jpg\\labels\\China_MotorBike_000778.txt\n"
     ]
    },
    {
     "name": "stderr",
     "output_type": "stream",
     "text": [
      "D:\\repos/intro_to_ml/yolov5\\models\\common.py:906: FutureWarning: `torch.cuda.amp.autocast(args...)` is deprecated. Please use `torch.amp.autocast('cuda', args...)` instead.\n",
      "  with amp.autocast(autocast):\n"
     ]
    }
   ],
   "source": [
    "import os\n",
    "import cv2\n",
    "import torch\n",
    "\n",
    "# Config — update these paths as needed\n",
    "yolov5_repo = r\"D:/repos/intro_to_ml/yolov5\"\n",
    "weights = r\"D:/repos/intro_to_ml/runs/train/exp_yolov5l_bs32_ep150/weights/best.pt\"\n",
    "img_path = r\"D:/repos/intro_to_ml/data/rdd2022/sample/China_MotorBike_000778.jpg\"\n",
    "out_dir = r\"D:/repos/intro_to_ml/runs/detect/single_test_2025_10_09/China_MotorBike_000329.jpg\"\n",
    "save_conf = True          # set False to omit confidence column in .txt\n",
    "label_format = \"yolo\"     # \"yolo\" for normalized xc yc w h, \"xyxy\" for absolute x1 y1 x2 y2\n",
    "\n",
    "os.makedirs(out_dir, exist_ok=True)\n",
    "labels_out = os.path.join(out_dir, \"labels\")\n",
    "os.makedirs(labels_out, exist_ok=True)\n",
    "\n",
    "# Load model (local yolov5)\n",
    "model = torch.hub.load(yolov5_repo, 'custom', path=weights, source='local')\n",
    "model.conf = 0.25\n",
    "model.iou = 0.45\n",
    "\n",
    "# Read image (BGR)\n",
    "img_bgr = cv2.imread(img_path)\n",
    "if img_bgr is None:\n",
    "    raise FileNotFoundError(f\"Image not found: {img_path}\")\n",
    "h, w = img_bgr.shape[:2]\n",
    "\n",
    "# Inference (model expects RGB)\n",
    "img_rgb = img_bgr[:, :, ::-1]\n",
    "results = model(img_rgb, size=640)\n",
    "\n",
    "# Get predictions\n",
    "df = results.pandas().xyxy[0]  # xmin, ymin, xmax, ymax, confidence, class, name\n",
    "print(df)  # inspect if you want\n",
    "\n",
    "# Draw boxes on image (same as before)\n",
    "for _, row in df.iterrows():\n",
    "    x1 = int(max(0, row['xmin'])); y1 = int(max(0, row['ymin']))\n",
    "    x2 = int(min(w-1, row['xmax'])); y2 = int(min(h-1, row['ymax']))\n",
    "    conf = float(row['confidence']); cls_name = str(row['name'])\n",
    "    label = f\"{cls_name} {conf:.2f}\"\n",
    "    cv2.rectangle(img_bgr, (x1, y1), (x2, y2), (0, 255, 0), 2)\n",
    "    cv2.putText(img_bgr, label, (x1, max(15, y1-6)), cv2.FONT_HERSHEY_SIMPLEX, 0.5, (0,255,0), 1)\n",
    "\n",
    "# Save annotated image\n",
    "out_image_path = os.path.join(out_dir, os.path.basename(img_path))\n",
    "ok = cv2.imwrite(out_image_path, img_bgr)\n",
    "print(\"Saved image:\", out_image_path, \"ok=\", ok)\n",
    "\n",
    "# Save prediction .txt in YOLO format (or XYXY)\n",
    "base = os.path.splitext(os.path.basename(img_path))[0]\n",
    "out_txt = os.path.join(labels_out, base + \".txt\")\n",
    "\n",
    "lines = []\n",
    "if len(df) == 0:\n",
    "    # Create empty .txt (YOLOv5 expects an empty file if no objects)\n",
    "    open(out_txt, \"w\").close()\n",
    "    print(\"No detections — wrote empty file:\", out_txt)\n",
    "else:\n",
    "    for _, row in df.iterrows():\n",
    "        cls_id = int(row['class'])  # numeric class id\n",
    "        if label_format == \"yolo\":\n",
    "            # normalized center x,y and w,h in [0,1]\n",
    "            x_center = ((row['xmin'] + row['xmax']) / 2.0) / w\n",
    "            y_center = ((row['ymin'] + row['ymax']) / 2.0) / h\n",
    "            bw = (row['xmax'] - row['xmin']) / w\n",
    "            bh = (row['ymax'] - row['ymin']) / h\n",
    "            if save_conf:\n",
    "                lines.append(f\"{cls_id} {x_center:.6f} {y_center:.6f} {bw:.6f} {bh:.6f} {row['confidence']:.6f}\")\n",
    "            else:\n",
    "                lines.append(f\"{cls_id} {x_center:.6f} {y_center:.6f} {bw:.6f} {bh:.6f}\")\n",
    "        else:  # \"xyxy\"\n",
    "            if save_conf:\n",
    "                lines.append(f\"{cls_id} {int(row['xmin'])} {int(row['ymin'])} {int(row['xmax'])} {int(row['ymax'])} {row['confidence']:.6f}\")\n",
    "            else:\n",
    "                lines.append(f\"{cls_id} {int(row['xmin'])} {int(row['ymin'])} {int(row['xmax'])} {int(row['ymax'])}\")\n",
    "\n",
    "    with open(out_txt, \"w\", encoding=\"utf-8\") as f:\n",
    "        f.write(\"\\n\".join(lines))\n",
    "    print(\"Wrote labels:\", out_txt)"
   ]
  }
 ],
 "metadata": {
  "kernelspec": {
   "display_name": "pytorch",
   "language": "python",
   "name": "python3"
  },
  "language_info": {
   "codemirror_mode": {
    "name": "ipython",
    "version": 3
   },
   "file_extension": ".py",
   "mimetype": "text/x-python",
   "name": "python",
   "nbconvert_exporter": "python",
   "pygments_lexer": "ipython3",
   "version": "3.13.3"
  }
 },
 "nbformat": 4,
 "nbformat_minor": 5
}
